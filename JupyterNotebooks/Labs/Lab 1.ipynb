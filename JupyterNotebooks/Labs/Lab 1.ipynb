{
 "cells": [
  {
   "cell_type": "markdown",
   "metadata": {},
   "source": [
    "# Lab One\n",
    "---\n",
    "\n",
    "Ok for this lab we're going to reiterate a lot of the things that we went over in class.\n",
    "\n",
    "Our Goals are:\n",
    "- Binary Math\n",
    "- Defining Variables\n",
    "    - Primitive Types\n",
    "    - Reference Types\n",
    "- Using Math\n",
    "- Manipulating Variables"
   ]
  },
  {
   "cell_type": "markdown",
   "metadata": {},
   "source": [
    "For this section I just want you to type the answer. I know that you can just look this up but try and do the math. \r\n",
    "### What is 1000 in Decimal\r\n",
    "8\r\n",
    "\r\n",
    "### What is 1000 1001 in Decimal (This is a byte. It's just split for readability)\r\n",
    "137\r\n",
    "\r\n",
    "### What is 1010 1111 in Decimal (This is a byte. It's just split for readability)\r\n",
    "175\r\n",
    "\r\n",
    "### What is 0101 1010 in Decimal (This is a byte. It's just split for readability)\r\n",
    "v"
   ]
  },
  {
   "cell_type": "code",
   "execution_count": 1,
   "metadata": {},
   "outputs": [
    {
     "name": "stdout",
     "output_type": "stream",
     "text": [
      "true\n",
      "50\n",
      "100\n",
      "150\n",
      "10000000\n",
      "1.0\n",
      "3.0\n",
      "j\n"
     ]
    }
   ],
   "source": [
    "// Define 8 variables, one of each type listed: [boolean, byte, short, int, long, float, double, char]. Print all 8 of them.\r\n",
    "boolean example1 = true;\r\n",
    "System.out.println(example1);\r\n",
    "byte example2 = 50;\r\n",
    "System.out.println(example2);\r\n",
    "short example3 = 100;\r\n",
    "System.out.println(example3);\r\n",
    "int example4 = 150;\r\n",
    "System.out.println(example4);\r\n",
    "long example5 = 10000000;\r\n",
    "System.out.println(example5);\r\n",
    "float example6 = 6/5;\r\n",
    "System.out.println(example6);\r\n",
    "double example7 = 15/5;\r\n",
    "System.out.println(example7);\r\n",
    "char example8 = 'j';\r\n",
    "System.out.println(example8);"
   ]
  },
  {
   "cell_type": "code",
   "execution_count": 2,
   "metadata": {},
   "outputs": [
    {
     "name": "stdout",
     "output_type": "stream",
     "text": [
      "ArrayList : [1, 3]\n"
     ]
    }
   ],
   "source": [
    "// Make me a list of any type\r\n",
    "List<Integer> list = new ArrayList<Integer>();\r\n",
    "list.add(1);\r\n",
    "list.add(3);\r\n",
    "System.out.println(\"ArrayList : \" + list.toString());"
   ]
  },
  {
   "cell_type": "code",
   "execution_count": 3,
   "metadata": {},
   "outputs": [
    {
     "name": "stdout",
     "output_type": "stream",
     "text": [
      "The sum is 60\n",
      "The difference is 40\n",
      "The quotient is 5\n",
      "The product is 500\n",
      "The remainder is 10\n"
     ]
    }
   ],
   "source": [
    "// With whatever variables you'd like demonstrate the following: [Addition, Subtraction, Division, Multiplication, Modulo]. Print all 5.\r\n",
    "int num1 = 10, num2 = 50;\r\n",
    "\r\n",
    "System.out.println(\"The sum is \" + (num1 + num2));\r\n",
    "System.out.println(\"The difference is \" + (num2 - num1));\r\n",
    "System.out.println(\"The quotient is \" + (num2/num1));\r\n",
    "System.out.println(\"The product is \" + (num1*num2));\r\n",
    "System.out.println(\"The remainder is \" + (num1%num2));"
   ]
  },
  {
   "cell_type": "code",
   "execution_count": 4,
   "metadata": {},
   "outputs": [
    {
     "name": "stdout",
     "output_type": "stream",
     "text": [
      "The sum is 57\n"
     ]
    }
   ],
   "source": [
    "// Using 2 variables and addition print the number 57\r\n",
    "int num1 = 50, num2 = 7, sum;\r\n",
    "sum = num1 + num2;\r\n",
    "System.out.println(\"The sum is \" + sum);"
   ]
  },
  {
   "cell_type": "code",
   "execution_count": 2,
   "metadata": {},
   "outputs": [
    {
     "name": "stdout",
     "output_type": "stream",
     "text": [
      "The variable is 100\n",
      "The new variable is 101\n"
     ]
    }
   ],
   "source": [
    "// Define a variable and print it out. Then alter the same variable and print it out. This can be through string concatenation or addition, etc.\r\n",
    "int num = 100;\r\n",
    "System.out.println(\"The variable is \" + num);\r\n",
    "int num = 101;\r\n",
    "System.out.println(\"The new variable is \" + num);"
   ]
  }
 ],
 "metadata": {
  "kernelspec": {
   "display_name": "Java",
   "language": "java",
   "name": "java"
  },
  "language_info": {
   "codemirror_mode": "java",
   "file_extension": ".jshell",
   "mimetype": "text/x-java-source",
   "name": "Java",
   "pygments_lexer": "java",
   "version": "15.0.2+7-27"
  },
  "orig_nbformat": 2
 },
 "nbformat": 4,
 "nbformat_minor": 2
}