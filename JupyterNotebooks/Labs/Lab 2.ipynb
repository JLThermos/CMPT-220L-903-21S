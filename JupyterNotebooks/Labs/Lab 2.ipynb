{
 "cells": [
  {
   "cell_type": "markdown",
   "metadata": {},
   "source": [
    "# Lab Two\n",
    "---\n",
    "\n",
    "Ok for this lab we're going to reiterate a lot of the things that we went over in class.\n",
    "\n",
    "Our Goals are:\n",
    "- Conditionals\n",
    "    - If\n",
    "    - Else\n",
    "    - Else If"
   ]
  },
  {
   "cell_type": "code",
   "execution_count": 1,
   "metadata": {},
   "outputs": [
    {
     "name": "stdout",
     "output_type": "stream",
     "text": [
      "10 is greater than 5.\n"
     ]
    }
   ],
   "source": [
    "// Make an if statement\r\n",
    "if (10 > 5){\r\n",
    "    System.out.println(\"10 is greater than 5.\");\r\n",
    "}"
   ]
  },
  {
   "cell_type": "code",
   "execution_count": 2,
   "metadata": {},
   "outputs": [
    {
     "name": "stdout",
     "output_type": "stream",
     "text": [
      "5 is not greater than 10.\n"
     ]
    }
   ],
   "source": [
    "// Make an if, else statement where the else statement triggers\r\n",
    "if (5 > 10){\r\n",
    "    System.out.println(\"5 is greater than 10.\");\r\n",
    "} else {\r\n",
    "    System.out.println(\"5 is not greater than 10.\");\r\n",
    "}"
   ]
  },
  {
   "cell_type": "code",
   "execution_count": 3,
   "metadata": {},
   "outputs": [
    {
     "name": "stdout",
     "output_type": "stream",
     "text": [
      "5 is equal to 5.\n"
     ]
    }
   ],
   "source": [
    "// Make an if, else if, else statement where the else if statement triggers\r\n",
    "if (5 > 5){\r\n",
    "    System.out.println(\"5 is greater than 5.\");\r\n",
    "} else if (5 == 5){\r\n",
    "    System.out.println(\"5 is equal to 5.\");\r\n",
    "} else {\r\n",
    "    System.out.println(\"5 is less than 5.\");\r\n",
    "}"
   ]
  },
  {
   "cell_type": "code",
   "execution_count": 4,
   "metadata": {},
   "outputs": [
    {
     "name": "stdout",
     "output_type": "stream",
     "text": [
      "num1 is less than num2.\n"
     ]
    }
   ],
   "source": [
    "// Make 2 variables and use them in an if else conditional\r\n",
    "int num1 = 10, num2 = 20;\r\n",
    "if (num1 > num2){\r\n",
    "    System.out.println(\"num1 is greater than num2.\");\r\n",
    "} else if (num1 == num2){\r\n",
    "    System.out.println(\"num1 is equal to num2.\");\r\n",
    "} else {\r\n",
    "    System.out.println(\"num1 is less than num2.\");\r\n",
    "}"
   ]
  },
  {
   "cell_type": "code",
   "execution_count": 5,
   "metadata": {},
   "outputs": [
    {
     "name": "stdout",
     "output_type": "stream",
     "text": [
      "This example worked\n"
     ]
    }
   ],
   "source": [
    "// Make an if statement using 2 variables and an AND(&&) statement\r\n",
    "int num1 = 10, num2 = 50;\r\n",
    "if (num1 > 5 && num2 < 500){\r\n",
    "    System.out.println(\"This example worked\");\r\n",
    "}"
   ]
  },
  {
   "cell_type": "code",
   "execution_count": 6,
   "metadata": {},
   "outputs": [
    {
     "name": "stdout",
     "output_type": "stream",
     "text": [
      "This example also worked.\n"
     ]
    }
   ],
   "source": [
    "// Make an if statement using 2 variables and an OR(||) statement\r\n",
    "int num1 = 10, num2 = 50;\r\n",
    "if (num1 > 9 || num2 >100){\r\n",
    "    System.out.println(\"This example also worked.\");\r\n",
    "}"
   ]
  }
 ],
 "metadata": {
  "kernelspec": {
   "display_name": "Java",
   "name": "java"
  },
  "language_info": {
   "name": "java"
  },
  "orig_nbformat": 2
 },
 "nbformat": 4,
 "nbformat_minor": 2
}