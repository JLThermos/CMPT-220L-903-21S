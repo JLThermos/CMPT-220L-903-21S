{
 "cells": [
  {
   "cell_type": "markdown",
   "metadata": {},
   "source": [
    "# Lab Four\n",
    "---\n",
    "\n",
    "For this lab we're going to be messing around with Markdown!\n",
    "\n",
    "Our Goals are:\n",
    "- Using Markdown!\n",
    "\n",
    "I want you to describe to me your process of converting the assignment and making it DRY. \n",
    "\n",
    "Please show the ability to:\n",
    "- Make a header\n",
    "- Make a list (ordered or unordered)\n",
    "- Link the Markdown Guide from the lesson. \n",
    "- Artuculate your thought process."
   ]
  },
  {
   "cell_type": "markdown",
   "metadata": {},
   "source": [
    "# My Thought Process While Doing Assignment 5\r\n",
    "## The steps I took are as follows in order:\r\n",
    "\r\n",
    "1. The first thing I noticed was that the variables were define before anything else in the function, which made sense to me so I decided to leave them where they were. \r\n",
    "2. Next, when I looked at the \"Wet\" version of the code I saw that those variabes were being individually input as the customers came along, and so there was along list if the same variables being added to and subtracted from. \r\n",
    "3. I then noticed that any time a variable was manipulated, it used the same fucntion, meaning the tips were always being added to and the amount of lemonades avaiable was always being subtracted from. \r\n",
    "4. This meant that I could simply find the absolute value of the numbers that corresponded to the variables, add them all up, and then simply use the correct operator depending on the variable to add or subtract the sum of the numbers from their respective variables. \r\n",
    "5. This was pretty simple, and then all I had to do was essentially rewrite the variables in the \"Dry\" section with the process previously mentioned, then copy the print statemtents from the \"Wet\" section into the \"Dry\" section, since they were pretty concise already. \r\n",
    "6. The fina step was to change the function being called in main from  wet_inventory() to dry_inventory(). \r\n",
    "7. Ran the program and everything seemed to work great.\r\n",
    "\r\n",
    "### Link to the markdown guide: \r\n",
    "[Markdown Guide](https://www.markdownguide.org/)\r\n"
   ]
  }
 ],
 "metadata": {
  "language_info": {
   "codemirror_mode": {
    "name": "ipython",
    "version": 3
   },
   "file_extension": ".py",
   "mimetype": "text/x-python",
   "name": "python",
   "nbconvert_exporter": "python",
   "pygments_lexer": "ipython3",
   "version": 3
  },
  "orig_nbformat": 2
 },
 "nbformat": 4,
 "nbformat_minor": 2
}