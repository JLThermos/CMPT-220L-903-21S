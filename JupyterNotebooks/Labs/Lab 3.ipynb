{
 "cells": [
  {
   "cell_type": "markdown",
   "metadata": {},
   "source": [
    "# Lab Three\n",
    "---\n",
    "\n",
    "For this lab we're going to be making and using a bunch of functions. \n",
    "\n",
    "Our Goals are:\n",
    "- Switch Case\n",
    "- Looping\n",
    "- Making our own functions\n",
    "- Combining functions\n",
    "- Structuring solutions"
   ]
  },
  {
   "cell_type": "code",
   "execution_count": 4,
   "metadata": {},
   "outputs": [
    {
     "name": "stdout",
     "output_type": "stream",
     "text": [
      "Apples are always a good choice!\n",
      "Oranges are pretty healthy.\n",
      "Bananas are probably my favorite.\n",
      "That wasn't one that I was thinking of, but good choice.\n"
     ]
    }
   ],
   "source": [
    "// Give me an example of you using switch case.\r\n",
    "String fruits = \"apples\";\r\n",
    "\r\n",
    "switch(fruits){\r\n",
    "    case \"apples\":\r\n",
    "        System.out.println(\"Apples are always a good choice!\");\r\n",
    "    case \"oranges\":\r\n",
    "        System.out.println(\"Oranges are pretty healthy.\");\r\n",
    "    case \"bananas\":\r\n",
    "        System.out.println(\"Bananas are probably my favorite.\");\r\n",
    "    default:\r\n",
    "        System.out.println(\"That wasn't one that I was thinking of, but good choice.\");\r\n",
    "\r\n",
    "}\r\n"
   ]
  },
  {
   "cell_type": "code",
   "execution_count": 8,
   "metadata": {},
   "outputs": [
    {
     "name": "stdout",
     "output_type": "stream",
     "text": [
      "The new number is: 0\n",
      "The new number is: 1\n",
      "The new number is: 2\n",
      "The new number is: 3\n",
      "The new number is: 4\n",
      "The new number is: 5\n",
      "The new number is: 6\n",
      "The new number is: 7\n",
      "The new number is: 8\n",
      "The new number is: 9\n",
      "The new number is: 10\n",
      "The new number is: 11\n",
      "The new number is: 12\n",
      "The new number is: 13\n",
      "The new number is: 14\n",
      "The new number is: 15\n",
      "The new number is: 16\n",
      "The new number is: 17\n",
      "The new number is: 18\n",
      "The new number is: 19\n",
      "The new number is: 20\n"
     ]
    }
   ],
   "source": [
    "// Give me an example of you using a for loop\r\n",
    "\r\n",
    "for (int num = 0; num < 21; num++){\r\n",
    "    System.out.println(\"The new number is: \" + num);\r\n",
    "}"
   ]
  },
  {
   "cell_type": "code",
   "execution_count": 12,
   "metadata": {},
   "outputs": [
    {
     "name": "stdout",
     "output_type": "stream",
     "text": [
      "dog\n",
      "monkey\n",
      "giraffe\n",
      "cat\n",
      "shark\n",
      "giselle\n"
     ]
    }
   ],
   "source": [
    "// Give me an example of you using a for each loop\r\n",
    "String[] animals = {\"dog\", \"monkey\", \"giraffe\", \"cat\", \"shark\", \"giselle\"};\r\n",
    "\r\n",
    "for (String mammals: animals) {\r\n",
    "    System.out.println(mammals);\r\n",
    "}"
   ]
  },
  {
   "cell_type": "code",
   "execution_count": 1,
   "metadata": {},
   "outputs": [
    {
     "name": "stdout",
     "output_type": "stream",
     "text": [
      "The number has not reached the goal.\n",
      "The number has not reached the goal.\n",
      "The number has not reached the goal.\n",
      "The number has not reached the goal.\n",
      "The number has not reached the goal.\n",
      "The number has not reached the goal.\n",
      "The number has not reached the goal.\n",
      "The number has not reached the goal.\n",
      "The number has not reached the goal.\n",
      "The number has not reached the goal.\n",
      "The number has reached the goal of 10\n"
     ]
    }
   ],
   "source": [
    "// Give me an example of you using a while loop\r\n",
    "int num1 = 0;\r\n",
    "int goal = 10;\r\n",
    "while (num1 < goal) {\r\n",
    "    System.out.println(\"The number has not reached the goal.\");\r\n",
    "    num1++;\r\n",
    "    \r\n",
    "\r\n",
    "}\r\n",
    "\r\n",
    "System.out.println(\"The number has reached the goal of \" + goal);\r\n"
   ]
  },
  {
   "cell_type": "code",
   "execution_count": 5,
   "metadata": {},
   "outputs": [
    {
     "name": "stdout",
     "output_type": "stream",
     "text": [
      "When the base and exponent are given, the answer is: 625.0\n"
     ]
    }
   ],
   "source": [
    "// I want you to write a function that will take in a number and raise it to the power given. \r\n",
    "\r\n",
    "// For example if given the numbers 2 and 3. The math that the function should do is 2^3 and should print out or return 8. Print the output.\r\n",
    "\r\n",
    "int base = 5;\r\n",
    "int exponent = 4;\r\n",
    "double answer = Math.pow(base, exponent);\r\n",
    "System.out.println(\"When the base and exponent are given, the answer is: \" + answer);"
   ]
  },
  {
   "cell_type": "code",
   "execution_count": 32,
   "metadata": {},
   "outputs": [
    {
     "name": "stdout",
     "output_type": "stream",
     "text": [
      "The ammount of times that 3 occurs is 2 times.\n"
     ]
    }
   ],
   "source": [
    "// I want you to write a function that will take in a list and see how many times a given number is in the list. \r\n",
    "\r\n",
    "// For example if the array given is [2,3,5,2,3,6,7,8,2] and the number given is 2 the function should print out or return 3. Print the output.\r\n",
    "\r\n",
    "\r\n",
    "\r\n",
    "\r\n",
    "    List<String> list = Arrays.asList(\"1\", \"2\", \"3\", \"3\", \"2\", \"5\");\r\n",
    "    int occurrences = Collections.frequency(list, \"3\");\r\n",
    "    System.out.println(\"The ammount of times that 3 occurs is \" + occurrences + \" times.\");\r\n",
    "\r\n",
    "    \r\n",
    "\r\n",
    "\r\n"
   ]
  },
  {
   "cell_type": "code",
   "execution_count": 37,
   "metadata": {},
   "outputs": [
    {
     "ename": "UnresolvedReferenceException",
     "evalue": "Attempt to use definition snippet with unresolved references in MethodSnippet:pythagorean_theorem/(int,int)void-\r\n\r\nvoid pythagorean_theorem(int a, int b) {\r\n    double a_squared = power(a, 2);\r\n    double b_squared = power(b, 2);\r\n    double c_squared = addition(a_squared, b_squared);\r\n    double c = Math.sqrt(c_squared);\r\n    \r\n    System.out.println(\"c comes out to be \" + c + \" and c squared was \" + c_squared + \".\");\r\n}",
     "output_type": "error",
     "traceback": [
      "\u001b[1m\u001b[30m|   \u001b[1m\u001b[30m\u001b[0m",
      "\u001b[1m\u001b[30m|   \u001b[1m\u001b[30m\u001b[0m",
      "\u001b[1m\u001b[30m|   \u001b[1m\u001b[30mvoid pythagorean_theorem(int a, int b) {\u001b[0m",
      "\u001b[1m\u001b[30m|   \u001b[1m\u001b[30m    double a_squared = power(a, 2);\u001b[0m",
      "\u001b[1m\u001b[30m|   \u001b[1m\u001b[30m    double b_squared = power(b, 2);\u001b[0m",
      "\u001b[1m\u001b[30m|   \u001b[1m\u001b[30m    double c_squared = addition(a_squared, b_squared);\u001b[0m",
      "\u001b[1m\u001b[30m|   \u001b[1m\u001b[30m    double c = Math.sqrt(c_squared);\u001b[0m",
      "\u001b[1m\u001b[30m|   \u001b[1m\u001b[30m    \u001b[0m",
      "\u001b[1m\u001b[30m|   \u001b[1m\u001b[30m    System.out.println(\"c comes out to be \" + c + \" and c squared was \" + c_squared + \".\");\u001b[0m",
      "\u001b[1m\u001b[30m|   \u001b[1m\u001b[30m}\u001b[0m",
      "\u001b[1m\u001b[31mUnresolved dependencies:\u001b[0m",
      "\u001b[1m\u001b[31m   - method power(int,int)\u001b[0m"
     ]
    }
   ],
   "source": [
    "// Give me a function that gives the answer to the pythagorean theorem. \r\n",
    "// I'd like you to reuse the exponent function from above as well as the functions below to make your function.\r\n",
    "\r\n",
    "// If you don't remember the pythagorean theorem the formula is (a^2 + b^2 = c^2). Given a and b as parameters i'd like you to return c. \r\n",
    "// If this doesn't make sense look up `Pythagorean Theorem Formula` on google.\r\n",
    "double addition(double a, double b) {\r\n",
    "    double answer = a + b;\r\n",
    "    return answer;\r\n",
    "}\r\n",
    "\r\n",
    "double division(int a, int b) {\r\n",
    "    int answer = a / b;\r\n",
    "    return answer;\r\n",
    "}\r\n",
    "\r\n",
    "void pythagorean_theorem(int a, int b) {\r\n",
    "    double a_squared = power(a, 2);\r\n",
    "    double b_squared = power(b, 2);\r\n",
    "    double c_squared = addition(a_squared, b_squared);\r\n",
    "    double c = Math.sqrt(c_squared);\r\n",
    "    \r\n",
    "    System.out.println(\"c comes out to be \" + c + \" and c squared was \" + c_squared + \".\");\r\n",
    "}\r\n",
    "\r\n",
    "pythagorean_theorem(3,4);\r\n",
    "\r\n",
    "\r\n"
   ]
  }
 ],
 "metadata": {
  "kernelspec": {
   "display_name": "Java",
   "language": "java",
   "name": "java"
  },
  "language_info": {
   "codemirror_mode": "java",
   "file_extension": ".jshell",
   "mimetype": "text/x-java-source",
   "name": "Java",
   "pygments_lexer": "java",
   "version": "15.0.2+7-27"
  },
  "orig_nbformat": 2
 },
 "nbformat": 4,
 "nbformat_minor": 2
}